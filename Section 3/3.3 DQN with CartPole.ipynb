{
 "cells": [
  {
   "cell_type": "markdown",
   "metadata": {
    "collapsed": true
   },
   "source": [
    "# Deep Q Network with Cartpole\n",
    "\n",
    "DQN was created by DeepMind researchers, achieving superhuman performance on many Atari games (https://deepmind.com/research/dqn/). What made the accomplishments of DQN even more impressive is that the DQN had nearly the same architecture and hyperparameter settings for each game (ie no game specific knowledge or set up) and the only inputs to the DQN were the screen pixels.\n",
    "\n",
    "The main parts of the DQN are Q learning, the neural net, experience replay, target network updating, and data/environment pre-processing. For the neural net in this example, we replaced the Convolutional Neural Net (CNN) used in the original DQN with a 2 layer feed forward neural network (FFNN). We use the FFNN since CartPole doesn't give us image data. We'll use the CNN and data/environment pre-processing in the Pong DQN example\n"
   ]
  },
  {
   "cell_type": "code",
   "execution_count": 1,
   "metadata": {
    "collapsed": true
   },
   "outputs": [],
   "source": [
    "import torch\n",
    "import torch.optim as optim\n",
    "import torch.nn as nn\n",
    "import torch.nn.functional as F\n",
    "import matplotlib.pyplot as plt\n",
    "import gym\n",
    "import numpy as np"
   ]
  },
  {
   "cell_type": "code",
   "execution_count": 2,
   "metadata": {
    "collapsed": true
   },
   "outputs": [],
   "source": [
    "# check and use GPU if available if not use CPU\n",
    "device = torch.device(\"cuda\" if torch.cuda.is_available() else \"cpu\")"
   ]
  },
  {
   "cell_type": "markdown",
   "metadata": {},
   "source": [
    "### Experience Replay Buffer\n",
    "\n",
    "Q learning is an off-policy method. In off-policy methods we often save samples and then train on them. DQN has a memory buffer that stores state, action, reward, done condition, and next state samples. In the training loop, DQN will sample from this memory buffer and train on the saved samples. The replay buffer is essentially a queue that we randomly sample from. When the queue gets full we replace the first element of the queue. "
   ]
  },
  {
   "cell_type": "code",
   "execution_count": 3,
   "metadata": {
    "collapsed": true
   },
   "outputs": [],
   "source": [
    "# replay buffer from and some code based on https://github.com/sfujim/TD3\n",
    "\n",
    "# create replay buffer of tuples of (state, next_state, action, reward, done)\n",
    "class ReplayBuffer():\n",
    "    def __init__(self, max_size=1e6):\n",
    "        self.storage = []\n",
    "        self.max_size = max_size\n",
    "        self.ptr = 0\n",
    "\n",
    "    def add(self, data):\n",
    "        if len(self.storage) == self.max_size:\n",
    "            self.storage[int(self.ptr)] = data\n",
    "            self.ptr = (self.ptr + 1) % self.max_size\n",
    "        else:\n",
    "            self.storage.append(data)\n",
    "\n",
    "    def sample(self, batch_size):\n",
    "        ind = np.random.randint(0, len(self.storage), size=batch_size)\n",
    "        x, y, u, r, d = [], [], [], [], []\n",
    "\n",
    "        for i in ind: \n",
    "            X, Y, U, R, D = self.storage[i]\n",
    "            x.append(np.array(X, copy=False))\n",
    "            y.append(np.array(Y, copy=False))\n",
    "            u.append(np.array(U, copy=False))\n",
    "            r.append(np.array(R, copy=False))\n",
    "            d.append(np.array(D, copy=False))\n",
    "\n",
    "        return np.array(x), np.array(y), np.array(u).reshape(-1,1), np.array(r).reshape(-1,1), np.array(d).reshape(-1,1)"
   ]
  },
  {
   "cell_type": "markdown",
   "metadata": {},
   "source": [
    "### Feed Forward Neural Network\n",
    "\n",
    "We use a simple FFNN for the function approximator. We create two linear, dense (fully-connected) layers and use a ReLU activation function. Note the input is the state size of the environment and the output is the action size of the environment. The outputs of the neural net are the estimated Q values based on the state input."
   ]
  },
  {
   "cell_type": "code",
   "execution_count": 4,
   "metadata": {
    "collapsed": true
   },
   "outputs": [],
   "source": [
    "class FeedForwardNeuralNet(nn.Module):\n",
    "    def __init__(self, state_size, action_size, hidden_size):\n",
    "        super(FeedForwardNeuralNet, self).__init__()\n",
    "        self.dense_layer_1 = nn.Linear(state_size, hidden_size)\n",
    "        self.dense_layer_2 = nn.Linear(hidden_size, hidden_size)\n",
    "        self.output = nn.Linear(hidden_size, action_size)\n",
    "    \n",
    "    def forward(self, x):\n",
    "        x = F.relu(self.dense_layer_1(x))\n",
    "        x = F.relu(self.dense_layer_2(x))\n",
    "        return self.output(x)"
   ]
  },
  {
   "cell_type": "markdown",
   "metadata": {},
   "source": [
    "### CartPoleAgent Class\n",
    "\n",
    "We create a CartPoleAgent class. The agent has a train network for learning a policy and a target network for performing target network updates. The agent has a select_action() function for sampling an action based on the epsilon-greedy method. The agent has a train() function, in which the agent samples from the replay buffer and updates the neural network parameters to improve its policy. The agent also has a update_target_network() function for updating the target network parameters with the training network parameters."
   ]
  },
  {
   "cell_type": "code",
   "execution_count": 5,
   "metadata": {
    "collapsed": true
   },
   "outputs": [],
   "source": [
    "class CartPoleAgent():\n",
    "    def __init__(self, state_size, action_size, hidden_size, learning_rate ):\n",
    "        \n",
    "        self.action_size = action_size\n",
    "        self.train_net = FeedForwardNeuralNet(state_size, action_size, hidden_size).to(device)\n",
    "        self.target_net = FeedForwardNeuralNet(state_size, action_size, hidden_size).to(device)\n",
    "        self.target_net.load_state_dict(self.train_net.state_dict())\n",
    "        self.optimizer = optim.Adam(self.train_net.parameters(), lr=learning_rate)\n",
    "\n",
    "        \n",
    "    def select_action(self, state, epsilon):\n",
    "        # select action according to epsilon-greedy method\n",
    "        if np.random.rand() <= epsilon:\n",
    "            action = env.action_space.sample()\n",
    "        else:\n",
    "            # greedy action is the largest Q value from the train network based on the input\n",
    "            with torch.no_grad():\n",
    "                input_state = torch.FloatTensor(state).to(device)\n",
    "                # feed input into the network and get the max action value\n",
    "                action = self.train_net(input_state).max(0)[1].view(-1)\n",
    "                action = int(action)\n",
    "        return action\n",
    "\n",
    "    \n",
    "    def train(self, replay_buffer, batch_size, discount):\n",
    "        # train the training network\n",
    "        # sample a batch from the replay buffer\n",
    "        x0, x1, a, r, d = replay_buffer.sample(batch_size)\n",
    "\n",
    "        # turn batches into tensors and attack to GPU if available\n",
    "        state_batch = torch.FloatTensor(x0).to(device)\n",
    "        next_state_batch = torch.FloatTensor(x1).to(device)\n",
    "        action_batch = torch.LongTensor(a).to(device)\n",
    "        reward_batch = torch.FloatTensor(r).to(device)\n",
    "        done_batch = torch.FloatTensor(1 - d).to(device)\n",
    "\n",
    "        # get train net Q values\n",
    "        train_q = self.train_net(state_batch).gather(1, action_batch)\n",
    "        \n",
    "        # get target net Qvalues\n",
    "        with torch.no_grad():\n",
    "            target_net_q = reward_batch + done_batch * discount * \\\n",
    "                     torch.max( self.target_net(next_state_batch).detach(), dim=1)[0].view(batch_size, -1)\n",
    "\n",
    "        # create loss function\n",
    "        loss_fn = nn.MSELoss()\n",
    "        # get loss between train q values and target q values\n",
    "        loss = loss_fn(train_q, target_net_q)\n",
    "        # optimize the parameters with the loss\n",
    "        self.optimizer.zero_grad()\n",
    "        loss.backward()\n",
    "        self.optimizer.step()\n",
    "        # we return the loss so we can monitor loss and debug the network if necessary\n",
    "        return loss.detach().cpu().numpy()\n",
    "    \n",
    "    \n",
    "    def update_target_network(self, num_iter, update_every):\n",
    "        # update target network every so often\n",
    "        # hard target network update: updates target network fully with train network params\n",
    "        if num_iter % update_every == 0:\n",
    "            self.target_net.load_state_dict(self.train_net.state_dict())\n",
    "            "
   ]
  },
  {
   "cell_type": "markdown",
   "metadata": {},
   "source": [
    "### Target Network Updating\n",
    "\n",
    "DQN has two networks: a train network and a target network. The target network provides the next-state Q values for the Q learning update. We use the next-state Q values to update the train network. Periodically we then update target network variables with the train network variables. Using a target network increases stability and convergence of the DQN.\n",
    "\n",
    "### Hyperparameters\n",
    "\n",
    "Hyperparameters are a variety of arguments that are usually tuned to help produce the best performing agents. Hyperparameter choice can be tricky as poor hyperparameter choice can prevent an agent from learning anything. The best choice depends on the algorithm and problem. Two basic methods that are used are random search, where you randomly pick hyperparameter values from a predefined range of values, and grid search where you systematically try all values and combinations based on a predefined grid of values."
   ]
  },
  {
   "cell_type": "code",
   "execution_count": 6,
   "metadata": {
    "collapsed": true,
    "scrolled": true
   },
   "outputs": [],
   "source": [
    "# initialize environment\n",
    "env = gym.make('CartPole-v0')\n",
    "action_size = env.action_space.n\n",
    "state_size = env.observation_space.shape[0]\n",
    "\n",
    "# set seed\n",
    "seed = 31\n",
    "env.seed(seed)\n",
    "np.random.seed(seed)\n",
    "torch.manual_seed(seed)\n",
    "if torch.cuda.is_available():\n",
    "    torch.cuda.manual_seed(seed)\n",
    "    torch.cuda.manual_seed_all(seed)\n",
    "\n",
    "# hyperparameters\n",
    "episodes = 1000 # run agent for this many episodes\n",
    "start_training_after = 100 # collect data for this many timesteps before training\n",
    "hidden_size = 64 # number of units in NN hidden layers\n",
    "learning_rate = 0.0005 # learning rate for optimizer\n",
    "update_target_every_ts = 1000 # update target network after this many steps\n",
    "batch_size = 64 # mini batch size we train network on\n",
    "discount = 0.9 # gamma value\n",
    "\n",
    "epsilon_start = 1.0 # epsilon start value\n",
    "epsilon_min = 0.01  # epsilon end value\n",
    "epsilon_decay_steps = episodes * .15 # decay epsilon over this many episodes\n",
    "epsilon_step = (epsilon_start - epsilon_min)/(epsilon_decay_steps) # decrement epsilon by this amount every timestep\n",
    "\n",
    "# create replay buffer\n",
    "replay_size = 15000\n",
    "replay_buffer = ReplayBuffer(max_size=replay_size)\n",
    "\n",
    "# create cartpole agent\n",
    "cartpole_agent = CartPoleAgent(state_size, action_size, hidden_size, learning_rate)\n",
    "        "
   ]
  },
  {
   "cell_type": "markdown",
   "metadata": {},
   "source": [
    "### The RL Training Loop\n",
    "\n",
    "In the loop, we iterate through our episodes and then the timesteps within the episodes. We stop training the agent based on some stopping condition like a max episode value, a max timestep value, or the agent's performance reaches a certain level.\n",
    "\n",
    "In each episode and at each timestep the agent selects an action, calls env.step(), and stores the sample in the replay buffer. The agent will also train the training neural network and periodically update the target network. When an episode is done the env is reset."
   ]
  },
  {
   "cell_type": "code",
   "execution_count": 7,
   "metadata": {
    "collapsed": false
   },
   "outputs": [
    {
     "name": "stdout",
     "output_type": "stream",
     "text": [
      "Episode: 10 Timestep: 243 Total reward: 21.6 Episode length: 21.6 Epsilon: 0.93 Loss: 6.357\n",
      "Episode: 20 Timestep: 446 Total reward: 20.3 Episode length: 20.3 Epsilon: 0.86 Loss: 1.924\n",
      "Episode: 30 Timestep: 768 Total reward: 32.2 Episode length: 32.2 Epsilon: 0.80 Loss: 4.944\n",
      "Episode: 40 Timestep: 983 Total reward: 21.5 Episode length: 21.5 Epsilon: 0.73 Loss: 2.929\n",
      "Episode: 50 Timestep: 1257 Total reward: 27.4 Episode length: 27.4 Epsilon: 0.66 Loss: 2.241\n",
      "Episode: 60 Timestep: 1647 Total reward: 39.0 Episode length: 39.0 Epsilon: 0.60 Loss: 12.891\n",
      "Episode: 70 Timestep: 2032 Total reward: 38.5 Episode length: 38.5 Epsilon: 0.53 Loss: 3.642\n",
      "Episode: 80 Timestep: 2642 Total reward: 61.0 Episode length: 61.0 Epsilon: 0.47 Loss: 12.906\n",
      "Episode: 90 Timestep: 3375 Total reward: 73.3 Episode length: 73.3 Epsilon: 0.40 Loss: 12.882\n",
      "Episode: 100 Timestep: 4391 Total reward: 101.6 Episode length: 101.6 Epsilon: 0.33 Loss: 3.846\n",
      "Episode: 110 Timestep: 5894 Total reward: 150.3 Episode length: 150.3 Epsilon: 0.27 Loss: 12.462\n",
      "Episode: 120 Timestep: 7492 Total reward: 159.8 Episode length: 159.8 Epsilon: 0.20 Loss: 19.978\n",
      "Episode: 130 Timestep: 9177 Total reward: 168.5 Episode length: 168.5 Epsilon: 0.14 Loss: 31.908\n",
      "Stopping at episode 138 with average rewards of 193.0 in last 10 episodes\n"
     ]
    }
   ],
   "source": [
    "stats_rewards_list = [] # store stats for plotting in this\n",
    "stats_every = 10 # print stats every this many episodes\n",
    "total_reward = 0\n",
    "timesteps = 0\n",
    "episode_length = 0\n",
    "epsilon = epsilon_start\n",
    "\n",
    "for ep in range(episodes):\n",
    "    state = env.reset()\n",
    "    stats_loss = 0\n",
    "    \n",
    "    # stopping condition for training if agent reaches the amount of reward\n",
    "    if len(stats_rewards_list) > stats_every and np.mean(stats_rewards_list[-stats_every:],axis=0)[1] > 190:\n",
    "        print(\"Stopping at episode {} with average rewards of {} in last {} episodes\".\n",
    "            format(ep, np.mean(stats_rewards_list[-stats_every:],axis=0)[1], stats_every))\n",
    "        break  \n",
    "    \n",
    "    # train in each episode until episode is done\n",
    "    while True:\n",
    "        timesteps += 1\n",
    "        #env.render()\n",
    "        # select an action from the agent's policy\n",
    "        action = cartpole_agent.select_action(state, epsilon)\n",
    "        # enter action into the env\n",
    "        next_state, reward, done, _ = env.step(action)\n",
    "        total_reward += reward\n",
    "        episode_length += 1\n",
    "        \n",
    "        if done:\n",
    "            next_state = np.zeros(state.shape)\n",
    "            reward = -1\n",
    "            # add experience to replay buffer\n",
    "            replay_buffer.add((state, next_state, action, reward, done))\n",
    "            \n",
    "            stats_rewards_list.append((ep, total_reward, episode_length))\n",
    "            total_reward = 0\n",
    "            episode_length = 0\n",
    "            \n",
    "            epsilon -= epsilon_step\n",
    "            if epsilon < epsilon_min:\n",
    "                epsilon = epsilon_min\n",
    "                \n",
    "            if timesteps > start_training_after and ep % stats_every == 0:\n",
    "                print('Episode: {}'.format(ep),\n",
    "                    'Timestep: {}'.format(timesteps),\n",
    "                    'Total reward: {:.1f}'.format(np.mean(stats_rewards_list[-stats_every:],axis=0)[1]),\n",
    "                    'Episode length: {:.1f}'.format(np.mean(stats_rewards_list[-stats_every:],axis=0)[2]),\n",
    "                    'Epsilon: {:.2f}'.format(epsilon),\n",
    "                    'Loss: {:.3f}'.format(stats_loss))\n",
    "                \n",
    "            break\n",
    "        else:\n",
    "            # add experience to replay buffer\n",
    "            replay_buffer.add((state, next_state, action, reward, done))\n",
    "        \n",
    "        state = next_state\n",
    "        if timesteps > start_training_after:\n",
    "            # train the agent\n",
    "            stats_loss += cartpole_agent.train(replay_buffer, batch_size, discount)\n",
    "            # update the target network every (if conditions are met in update_target_network)\n",
    "            cartpole_agent.update_target_network(timesteps, update_target_every_ts)"
   ]
  },
  {
   "cell_type": "code",
   "execution_count": 8,
   "metadata": {
    "collapsed": false
   },
   "outputs": [
    {
     "data": {
      "text/plain": [
       "Text(0, 0.5, 'Episode Reward')"
      ]
     },
     "execution_count": 8,
     "metadata": {},
     "output_type": "execute_result"
    },
    {
     "data": {
      "image/png": "[encoded data removed]",
      "text/plain": [
       "<Figure size 432x288 with 1 Axes>"
      ]
     },
     "metadata": {
      "needs_background": "light"
     },
     "output_type": "display_data"
    }
   ],
   "source": [
    "# plot stats\n",
    "def get_running_stat(stat, stat_len):\n",
    "    cum_sum = np.cumsum(np.insert(stat, 0, 0)) \n",
    "    return (cum_sum[stat_len:] - cum_sum[:-stat_len]) / stat_len\n",
    "\n",
    "episode, r, l = np.array(stats_rewards_list).T\n",
    "cum_r = get_running_stat(r, 10)\n",
    "cum_l = get_running_stat(l, 10)\n",
    "\n",
    "# plot rewards\n",
    "plt.plot(episode[-len(cum_r):], cum_r)\n",
    "plt.plot(episode, r, alpha=0.5)\n",
    "plt.xlabel('Episode')\n",
    "plt.ylabel('Episode Reward')"
   ]
  },
  {
   "cell_type": "code",
   "execution_count": 9,
   "metadata": {
    "collapsed": false
   },
   "outputs": [
    {
     "data": {
      "text/plain": [
       "Text(0, 0.5, 'Episode Length')"
      ]
     },
     "execution_count": 9,
     "metadata": {},
     "output_type": "execute_result"
    },
    {
     "data": {
      "image/png": "[encoded data removed]",
      "text/plain": [
       "<Figure size 432x288 with 1 Axes>"
      ]
     },
     "metadata": {
      "needs_background": "light"
     },
     "output_type": "display_data"
    }
   ],
   "source": [
    "# plot episode lengths\n",
    "plt.plot(episode[-len(cum_l):], cum_l)\n",
    "plt.plot(episode, l, alpha=0.5)\n",
    "plt.xlabel('Episode')\n",
    "plt.ylabel('Episode Length')"
   ]
  },
  {
   "cell_type": "code",
   "execution_count": null,
   "metadata": {
    "collapsed": true
   },
   "outputs": [],
   "source": []
  }
 ],
 "metadata": {
  "anaconda-cloud": {},
  "kernelspec": {
   "display_name": "Python [default]",
   "language": "python",
   "name": "python3"
  },
  "language_info": {
   "codemirror_mode": {
    "name": "ipython",
    "version": 3
   },
   "file_extension": ".py",
   "mimetype": "text/x-python",
   "name": "python",
   "nbconvert_exporter": "python",
   "pygments_lexer": "ipython3",
   "version": "3.5.2"
  }
 },
 "nbformat": 4,
 "nbformat_minor": 2
}
