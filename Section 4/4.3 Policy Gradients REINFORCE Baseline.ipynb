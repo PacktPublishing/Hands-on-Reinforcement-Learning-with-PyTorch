{
 "cells": [
  {
   "cell_type": "markdown",
   "metadata": {},
   "source": [
    "# Policy Gradients: REINFORCE Baseline with LunarLander"
   ]
  },
  {
   "cell_type": "code",
   "execution_count": 1,
   "metadata": {
    "scrolled": true
   },
   "outputs": [],
   "source": [
    "import torch\n",
    "import torch.optim as optim\n",
    "import torch.nn as nn\n",
    "import torch.nn.functional as F\n",
    "import matplotlib.pyplot as plt\n",
    "import gym\n",
    "import numpy as np"
   ]
  },
  {
   "cell_type": "code",
   "execution_count": 2,
   "metadata": {
    "scrolled": true
   },
   "outputs": [],
   "source": [
    "# check and use GPU if available if not use CPU\n",
    "device = torch.device(\"cuda\" if torch.cuda.is_available() else \"cpu\")"
   ]
  },
  {
   "cell_type": "markdown",
   "metadata": {},
   "source": [
    "### LunarLander\n",
    "\n",
    "LunarLander is an OpenAI gym environment (env). In this env the agent tries to land a space craft safely on the ground by firing the main, left, or right engine. The agent receives a reward for navigating to the landing pad and turning off the engine, a large reward for a safe landing, a large negative reward for an unsafe landing, and a small negative reward for using the engines. There are discrete and continuous versions of LunarLander."
   ]
  },
  {
   "cell_type": "code",
   "execution_count": 3,
   "metadata": {
    "scrolled": true
   },
   "outputs": [
    {
     "data": {
      "image/png": "[encoded data removed]",
      "text/plain": [
       "<Figure size 432x288 with 1 Axes>"
      ]
     },
     "metadata": {
      "needs_background": "light"
     },
     "output_type": "display_data"
    }
   ],
   "source": [
    "env = gym.make('LunarLander-v2')\n",
    "env.reset()\n",
    "\n",
    "prev_screen = env.render(mode='rgb_array')\n",
    "plt.imshow(prev_screen)\n",
    "\n",
    "for i in range(200):\n",
    "    env.render()\n",
    "    action = env.action_space.sample()\n",
    "    obs, reward, done, info = env.step(action)\n",
    "    if done:\n",
    "        env.reset()\n",
    "        \n",
    "env.close()"
   ]
  },
  {
   "cell_type": "markdown",
   "metadata": {},
   "source": [
    "### Policy Gradient Methods\n",
    "\n",
    "In policy gradient methods, we update the policy directly. Ie we parameterize the policy and perform gradient descent updates on the policy parameters seeking to improve the policy. This is in contrast to section 3 where we learned estimates of the state or action-values. Then we extracted a policy based on those values, like with the epsilon greedy DQN policy.\n",
    "\n",
    "### Discrete vs. Continuous Action Spaces\n",
    "\n",
    "PG methods can work in discrete and continuous action spaces. The DQN method we went over in section three required discrete action spaces: ie a limited number of actions. In continuous actions spaces there are an infinite number of actions as the action can be any value in a range. Continuous action spaces are often parameterized by a probability distribution and we learn the parameters of the distribution. For example we assume the actions come from a Gaussian distribution and try to learn the mean and standard deviation of the Gaussian that leads to the best policy. \n",
    "\n",
    "### REINFORCE with Lunar Lander\n",
    "\n",
    "In this example, we will solve the discrete version of Lunar Lander using the REINFORCE with baseline method."
   ]
  },
  {
   "cell_type": "code",
   "execution_count": 4,
   "metadata": {
    "scrolled": true
   },
   "outputs": [],
   "source": [
    "class ActorNet(nn.Module):\n",
    "    def __init__(self, state_size, action_size, hidden_size):\n",
    "        super(ActorNet, self).__init__()\n",
    "        self.dense_layer_1 = nn.Linear(state_size, hidden_size)\n",
    "        self.dense_layer_2 = nn.Linear(hidden_size, hidden_size)\n",
    "        self.output = nn.Linear(hidden_size, action_size)\n",
    "    \n",
    "    def forward(self, x):\n",
    "        x = torch.clamp(x,-1.1,1.1)\n",
    "        x = F.relu(self.dense_layer_1(x))\n",
    "        x = F.relu(self.dense_layer_2(x))\n",
    "        return F.softmax(self.output(x),dim=-1) #-1 to take softmax of last dimension\n",
    "    \n",
    "class ValueFunctionNet(nn.Module):\n",
    "    def __init__(self, state_size, hidden_size):\n",
    "        super(ValueFunctionNet, self).__init__()\n",
    "        self.dense_layer_1 = nn.Linear(state_size, hidden_size)\n",
    "        self.dense_layer_2 = nn.Linear(hidden_size, hidden_size)\n",
    "        self.output = nn.Linear(hidden_size, 1)\n",
    "    \n",
    "    def forward(self, x):\n",
    "        x = torch.clamp(x,-1.1,1.1)\n",
    "        x = F.relu(self.dense_layer_1(x))\n",
    "        x = F.relu(self.dense_layer_2(x))\n",
    "        return self.output(x)"
   ]
  },
  {
   "cell_type": "code",
   "execution_count": 5,
   "metadata": {
    "collapsed": true,
    "scrolled": true
   },
   "outputs": [],
   "source": [
    "class PGAgent():\n",
    "    def __init__(self, state_size, action_size, hidden_size, actor_lr, vf_lr, discount ):\n",
    "        self.action_size = action_size\n",
    "        self.actor_net = ActorNet(state_size, action_size, hidden_size).to(device)\n",
    "        self.vf_net = ValueFunctionNet(state_size, hidden_size).to(device)\n",
    "        self.actor_optimizer = optim.Adam(self.actor_net.parameters(), lr=actor_lr)\n",
    "        self.vf_optimizer = optim.Adam(self.vf_net.parameters(), lr=vf_lr)\n",
    "        self.discount = discount\n",
    "        \n",
    "    def select_action(self, state):\n",
    "        #get action probs then randomly sample from the probabilities\n",
    "        with torch.no_grad():\n",
    "            input_state = torch.FloatTensor(state).to(device)\n",
    "            action_probs = self.actor_net(input_state)\n",
    "            #detach and turn to numpy to use with np.random.choice()\n",
    "            action_probs = action_probs.detach().cpu().numpy()\n",
    "            action = np.random.choice(np.arange(self.action_size), p=action_probs)\n",
    "        return action\n",
    "\n",
    "    def train(self, state_list, action_list, reward_list):\n",
    "        \n",
    "        #turn rewards into return\n",
    "        trajectory_len = len(reward_list)\n",
    "        return_array = np.zeros((trajectory_len,))\n",
    "        g_return = 0.\n",
    "        for i in range(trajectory_len-1,-1,-1):\n",
    "            g_return = reward_list[i] + self.discount*g_return\n",
    "            return_array[i] = g_return\n",
    "            \n",
    "        # create tensors\n",
    "        state_t = torch.FloatTensor(state_list).to(device)\n",
    "        action_t = torch.LongTensor(action_list).to(device).view(-1,1)\n",
    "        return_t = torch.FloatTensor(return_array).to(device).view(-1,1)\n",
    "        \n",
    "        # get value function estimates\n",
    "        vf_t = self.vf_net(state_t).to(device)\n",
    "        with torch.no_grad():\n",
    "            advantage_t = return_t - vf_t\n",
    "        \n",
    "        # calculate actor loss\n",
    "        selected_action_prob = self.actor_net(state_t).gather(1, action_t)\n",
    "        # REINFORCE loss:\n",
    "        #actor_loss = torch.mean(-torch.log(selected_action_prob) * return_t)\n",
    "        # REINFORCE Baseline loss:\n",
    "        actor_loss = torch.mean(-torch.log(selected_action_prob) * advantage_t)\n",
    "        self.actor_optimizer.zero_grad()\n",
    "        actor_loss.backward()\n",
    "        self.actor_optimizer.step() \n",
    "\n",
    "        # calculate vf loss\n",
    "        loss_fn = nn.MSELoss()\n",
    "        vf_loss = loss_fn(vf_t, return_t)\n",
    "        self.vf_optimizer.zero_grad()\n",
    "        vf_loss.backward()\n",
    "        self.vf_optimizer.step() \n",
    "        \n",
    "        return actor_loss.detach().cpu().numpy(), vf_loss.detach().cpu().numpy()\n",
    "    "
   ]
  },
  {
   "cell_type": "code",
   "execution_count": 6,
   "metadata": {
    "collapsed": true,
    "scrolled": true
   },
   "outputs": [],
   "source": [
    "# initialize environment\n",
    "env = gym.make('LunarLander-v2')\n",
    "action_size = env.action_space.n\n",
    "state_size = env.observation_space.shape[0]\n",
    "\n",
    "# set seed\n",
    "seed = 31\n",
    "env.seed(seed)\n",
    "np.random.seed(seed)\n",
    "torch.manual_seed(seed)\n",
    "if torch.cuda.is_available():\n",
    "    torch.cuda.manual_seed(seed)\n",
    "    torch.cuda.manual_seed_all(seed)\n",
    "\n",
    "# hyperparameters\n",
    "episodes = 5000 # run agent for this many episodes\n",
    "hidden_size = 256 # number of units in NN hidden layers\n",
    "actor_lr = 0.002 # learning rate for actor\n",
    "value_function_lr = 0.002 # learning rate for value function\n",
    "discount = 0.99 # discount factor gamma value\n",
    "reward_scale = 0.01 #scale reward by this amount\n",
    "\n",
    "# create agent\n",
    "agent = PGAgent(state_size, action_size, hidden_size, actor_lr, value_function_lr, discount)"
   ]
  },
  {
   "cell_type": "code",
   "execution_count": 7,
   "metadata": {
    "scrolled": false
   },
   "outputs": [
    {
     "name": "stdout",
     "output_type": "stream",
     "text": [
      "Episode: 0 Timestep: 58 Total reward: -112.2 Episode length: 58.0 Actor Loss: -0.0900 VF Loss: 0.0421\n",
      "Episode: 10 Timestep: 1131 Total reward: -247.7 Episode length: 107.3 Actor Loss: -0.0414 VF Loss: 0.3992\n",
      "Episode: 20 Timestep: 2043 Total reward: -252.0 Episode length: 91.2 Actor Loss: -0.2468 VF Loss: 0.3471\n",
      "Episode: 30 Timestep: 2859 Total reward: -253.9 Episode length: 81.6 Actor Loss: 0.0386 VF Loss: 0.2227\n",
      "Episode: 40 Timestep: 3506 Total reward: -254.8 Episode length: 64.7 Actor Loss: -0.0263 VF Loss: 0.1408\n",
      "Episode: 50 Timestep: 4154 Total reward: -253.0 Episode length: 64.8 Actor Loss: 0.0189 VF Loss: 0.1289\n",
      "Episode: 60 Timestep: 4872 Total reward: -252.9 Episode length: 71.8 Actor Loss: -0.0551 VF Loss: 0.1549\n",
      "Episode: 70 Timestep: 5503 Total reward: -254.9 Episode length: 63.1 Actor Loss: 0.0315 VF Loss: 0.0923\n",
      "Episode: 80 Timestep: 6264 Total reward: -262.3 Episode length: 76.1 Actor Loss: 0.0062 VF Loss: 0.1041\n",
      "Episode: 90 Timestep: 7006 Total reward: -252.3 Episode length: 74.2 Actor Loss: -0.0264 VF Loss: 0.0705\n",
      "Episode: 100 Timestep: 7925 Total reward: -259.3 Episode length: 91.9 Actor Loss: 0.0357 VF Loss: 0.1139\n",
      "Episode: 110 Timestep: 8902 Total reward: -245.1 Episode length: 97.7 Actor Loss: 0.0640 VF Loss: 0.1659\n",
      "Episode: 120 Timestep: 9951 Total reward: -162.7 Episode length: 104.9 Actor Loss: -0.0236 VF Loss: 0.2084\n",
      "Episode: 130 Timestep: 11003 Total reward: -163.2 Episode length: 105.2 Actor Loss: -0.2505 VF Loss: 0.2664\n",
      "Episode: 140 Timestep: 11972 Total reward: -156.1 Episode length: 96.9 Actor Loss: 0.2161 VF Loss: 0.1282\n",
      "Episode: 150 Timestep: 12841 Total reward: -117.4 Episode length: 86.9 Actor Loss: -0.0190 VF Loss: 0.1061\n",
      "Episode: 160 Timestep: 13623 Total reward: -121.3 Episode length: 78.2 Actor Loss: -0.0871 VF Loss: 0.1764\n",
      "Episode: 170 Timestep: 14651 Total reward: -162.1 Episode length: 102.8 Actor Loss: -0.0831 VF Loss: 0.1316\n",
      "Episode: 180 Timestep: 16776 Total reward: -148.9 Episode length: 212.5 Actor Loss: 0.2866 VF Loss: 0.2021\n",
      "Episode: 190 Timestep: 18118 Total reward: -139.0 Episode length: 134.2 Actor Loss: -0.0706 VF Loss: 0.1902\n",
      "Episode: 200 Timestep: 19416 Total reward: -106.5 Episode length: 129.8 Actor Loss: -0.1173 VF Loss: 0.1920\n",
      "Episode: 210 Timestep: 21206 Total reward: -94.1 Episode length: 179.0 Actor Loss: 0.0663 VF Loss: 0.1575\n",
      "Episode: 220 Timestep: 22387 Total reward: -166.4 Episode length: 118.1 Actor Loss: -0.3034 VF Loss: 0.3130\n",
      "Episode: 230 Timestep: 23246 Total reward: -109.3 Episode length: 85.9 Actor Loss: 0.2132 VF Loss: 0.1365\n",
      "Episode: 240 Timestep: 24146 Total reward: -88.8 Episode length: 90.0 Actor Loss: 0.0904 VF Loss: 0.0593\n",
      "Episode: 250 Timestep: 25081 Total reward: -109.4 Episode length: 93.5 Actor Loss: -0.2227 VF Loss: 0.0668\n",
      "Episode: 260 Timestep: 26037 Total reward: -66.8 Episode length: 95.6 Actor Loss: 0.1628 VF Loss: 0.0488\n",
      "Episode: 270 Timestep: 27385 Total reward: -38.9 Episode length: 134.8 Actor Loss: 0.2495 VF Loss: 0.0908\n",
      "Episode: 280 Timestep: 29000 Total reward: -101.5 Episode length: 161.5 Actor Loss: -0.2086 VF Loss: 0.2561\n",
      "Episode: 290 Timestep: 30745 Total reward: -127.1 Episode length: 174.5 Actor Loss: -0.1142 VF Loss: 0.1313\n",
      "Episode: 300 Timestep: 32867 Total reward: -80.2 Episode length: 212.2 Actor Loss: 0.2158 VF Loss: 0.2043\n",
      "Episode: 310 Timestep: 34090 Total reward: -47.3 Episode length: 122.3 Actor Loss: 0.0201 VF Loss: 0.0849\n",
      "Episode: 320 Timestep: 35330 Total reward: -60.0 Episode length: 124.0 Actor Loss: -0.1363 VF Loss: 0.0404\n",
      "Episode: 330 Timestep: 36476 Total reward: -47.8 Episode length: 114.6 Actor Loss: 0.0739 VF Loss: 0.0205\n",
      "Episode: 340 Timestep: 37601 Total reward: -7.1 Episode length: 112.5 Actor Loss: 0.1705 VF Loss: 0.0615\n",
      "Episode: 350 Timestep: 39374 Total reward: -27.0 Episode length: 177.3 Actor Loss: -0.0402 VF Loss: 0.0781\n",
      "Episode: 360 Timestep: 42055 Total reward: -43.3 Episode length: 268.1 Actor Loss: 0.0004 VF Loss: 0.1054\n",
      "Episode: 370 Timestep: 45583 Total reward: -74.7 Episode length: 352.8 Actor Loss: 0.1059 VF Loss: 0.1535\n",
      "Episode: 380 Timestep: 48533 Total reward: 11.2 Episode length: 295.0 Actor Loss: 0.0038 VF Loss: 0.0772\n",
      "Episode: 390 Timestep: 51514 Total reward: 15.4 Episode length: 298.1 Actor Loss: 0.0171 VF Loss: 0.0628\n",
      "Episode: 400 Timestep: 57413 Total reward: -71.3 Episode length: 589.9 Actor Loss: -0.0675 VF Loss: 0.1364\n",
      "Episode: 410 Timestep: 66978 Total reward: -133.3 Episode length: 956.5 Actor Loss: -0.0049 VF Loss: 0.0883\n",
      "Episode: 420 Timestep: 76483 Total reward: -63.2 Episode length: 950.5 Actor Loss: 0.1144 VF Loss: 0.0548\n",
      "Episode: 430 Timestep: 85899 Total reward: -64.1 Episode length: 941.6 Actor Loss: 0.0513 VF Loss: 0.0662\n",
      "Episode: 440 Timestep: 95226 Total reward: -62.8 Episode length: 932.7 Actor Loss: -0.0784 VF Loss: 0.0540\n",
      "Episode: 450 Timestep: 103995 Total reward: -67.6 Episode length: 876.9 Actor Loss: -0.0818 VF Loss: 0.0722\n",
      "Episode: 460 Timestep: 113092 Total reward: -48.0 Episode length: 909.7 Actor Loss: 0.0460 VF Loss: 0.0336\n",
      "Episode: 470 Timestep: 122605 Total reward: -80.4 Episode length: 951.3 Actor Loss: 0.0815 VF Loss: 0.0587\n",
      "Episode: 480 Timestep: 132427 Total reward: -45.8 Episode length: 982.2 Actor Loss: 0.0360 VF Loss: 0.0363\n",
      "Episode: 490 Timestep: 142427 Total reward: -3.3 Episode length: 1000.0 Actor Loss: 0.0201 VF Loss: 0.0209\n",
      "Episode: 500 Timestep: 150884 Total reward: 12.7 Episode length: 845.7 Actor Loss: -0.0522 VF Loss: 0.0605\n",
      "Episode: 510 Timestep: 160884 Total reward: -17.1 Episode length: 1000.0 Actor Loss: 0.0291 VF Loss: 0.0276\n",
      "Episode: 520 Timestep: 170884 Total reward: 12.9 Episode length: 1000.0 Actor Loss: 0.0344 VF Loss: 0.0229\n",
      "Episode: 530 Timestep: 179966 Total reward: -14.0 Episode length: 908.2 Actor Loss: -0.0539 VF Loss: 0.0402\n",
      "Episode: 540 Timestep: 189966 Total reward: -20.1 Episode length: 1000.0 Actor Loss: -0.0234 VF Loss: 0.0312\n",
      "Episode: 550 Timestep: 199268 Total reward: 20.8 Episode length: 930.2 Actor Loss: 0.0403 VF Loss: 0.0395\n",
      "Episode: 560 Timestep: 207749 Total reward: 50.1 Episode length: 848.1 Actor Loss: 0.0305 VF Loss: 0.0453\n",
      "Episode: 570 Timestep: 217749 Total reward: 92.3 Episode length: 1000.0 Actor Loss: 0.0850 VF Loss: 0.0191\n",
      "Episode: 580 Timestep: 222782 Total reward: 60.2 Episode length: 503.3 Actor Loss: -0.1835 VF Loss: 0.1365\n",
      "Episode: 590 Timestep: 229813 Total reward: 117.4 Episode length: 703.1 Actor Loss: 0.0816 VF Loss: 0.1218\n",
      "Episode: 600 Timestep: 235532 Total reward: 63.5 Episode length: 571.9 Actor Loss: -0.0773 VF Loss: 0.1223\n",
      "Episode: 610 Timestep: 242516 Total reward: 29.0 Episode length: 698.4 Actor Loss: 0.0047 VF Loss: 0.0881\n",
      "Episode: 620 Timestep: 248717 Total reward: -11.9 Episode length: 620.1 Actor Loss: -0.0089 VF Loss: 0.1243\n",
      "Episode: 630 Timestep: 256307 Total reward: 24.7 Episode length: 759.0 Actor Loss: 0.0294 VF Loss: 0.0914\n",
      "Episode: 640 Timestep: 263158 Total reward: -14.0 Episode length: 685.1 Actor Loss: -0.0533 VF Loss: 0.0886\n",
      "Episode: 650 Timestep: 272574 Total reward: 20.0 Episode length: 941.6 Actor Loss: 0.0672 VF Loss: 0.0425\n",
      "Episode: 660 Timestep: 279870 Total reward: 23.4 Episode length: 729.6 Actor Loss: 0.0162 VF Loss: 0.0799\n",
      "Episode: 670 Timestep: 289364 Total reward: 105.0 Episode length: 949.4 Actor Loss: 0.0915 VF Loss: 0.0440\n",
      "Episode: 680 Timestep: 298197 Total reward: 124.6 Episode length: 883.3 Actor Loss: 0.0496 VF Loss: 0.0665\n",
      "Episode: 690 Timestep: 305767 Total reward: 100.0 Episode length: 757.0 Actor Loss: -0.0717 VF Loss: 0.0559\n",
      "Episode: 700 Timestep: 313390 Total reward: 78.5 Episode length: 762.3 Actor Loss: -0.0881 VF Loss: 0.0782\n",
      "Episode: 710 Timestep: 320769 Total reward: 45.3 Episode length: 737.9 Actor Loss: -0.0344 VF Loss: 0.0846\n",
      "Episode: 720 Timestep: 329351 Total reward: 99.4 Episode length: 858.2 Actor Loss: 0.0680 VF Loss: 0.0614\n",
      "Episode: 730 Timestep: 335213 Total reward: 49.8 Episode length: 586.2 Actor Loss: -0.0827 VF Loss: 0.1288\n",
      "Episode: 740 Timestep: 342525 Total reward: 93.9 Episode length: 731.2 Actor Loss: 0.0036 VF Loss: 0.0988\n",
      "Episode: 750 Timestep: 349490 Total reward: 77.7 Episode length: 696.5 Actor Loss: -0.0230 VF Loss: 0.0828\n",
      "Episode: 760 Timestep: 355846 Total reward: 72.6 Episode length: 635.6 Actor Loss: -0.0537 VF Loss: 0.1268\n"
     ]
    },
    {
     "name": "stdout",
     "output_type": "stream",
     "text": [
      "Episode: 770 Timestep: 362501 Total reward: 53.1 Episode length: 665.5 Actor Loss: -0.0218 VF Loss: 0.1370\n",
      "Episode: 780 Timestep: 371018 Total reward: 71.9 Episode length: 851.7 Actor Loss: 0.0293 VF Loss: 0.0850\n",
      "Episode: 790 Timestep: 378016 Total reward: 71.5 Episode length: 699.8 Actor Loss: 0.0060 VF Loss: 0.1383\n",
      "Episode: 800 Timestep: 385702 Total reward: 26.6 Episode length: 768.6 Actor Loss: -0.0288 VF Loss: 0.1576\n",
      "Episode: 810 Timestep: 392619 Total reward: 145.2 Episode length: 691.7 Actor Loss: 0.0815 VF Loss: 0.1132\n",
      "Episode: 820 Timestep: 397888 Total reward: 135.5 Episode length: 526.9 Actor Loss: 0.0016 VF Loss: 0.1775\n",
      "Stopping at episode 829 with average rewards of 190.02706561909008 in last 10 episodes\n"
     ]
    }
   ],
   "source": [
    "stats_rewards_list = [] # store stats for plotting in this\n",
    "stats_every = 10 # print stats every this many episodes\n",
    "total_reward = 0\n",
    "timesteps = 0\n",
    "episode_length = 0\n",
    "stats_actor_loss, stats_vf_loss = 0., 0.\n",
    "\n",
    "for ep in range(episodes):\n",
    "    state = env.reset()\n",
    "    state_list, action_list, reward_list = [], [], []\n",
    "    \n",
    "    # stopping condition for training if agent reaches the amount of reward\n",
    "    if len(stats_rewards_list) > stats_every and np.mean(stats_rewards_list[-stats_every:],axis=0)[1] > 190:\n",
    "        print(\"Stopping at episode {} with average rewards of {} in last {} episodes\".\n",
    "            format(ep, np.mean(stats_rewards_list[-stats_every:],axis=0)[1], stats_every))\n",
    "        break  \n",
    "\n",
    "    # train in each episode until episode is done\n",
    "    while True:\n",
    "        timesteps += 1\n",
    "        #env.render()\n",
    "        # select an action from the agent's policy\n",
    "        action = agent.select_action(state)\n",
    "        \n",
    "        # enter action into the env\n",
    "        next_state, reward, done, _ = env.step(action)\n",
    "        total_reward += reward\n",
    "        episode_length += 1\n",
    "        # store agent's trajectory\n",
    "        state_list.append(state)\n",
    "        action_list.append(action)\n",
    "        reward_list.append(reward*reward_scale)\n",
    "        \n",
    "        # end episode early\n",
    "        if total_reward < -250:\n",
    "            done = 1\n",
    "        \n",
    "        if done:\n",
    "            actor_loss, vf_loss = agent.train(state_list, action_list, reward_list)\n",
    "            stats_rewards_list.append((ep, total_reward, episode_length))\n",
    "            stats_actor_loss += actor_loss\n",
    "            stats_vf_loss += vf_loss\n",
    "            total_reward = 0\n",
    "            episode_length = 0  \n",
    "            if ep % stats_every == 0:\n",
    "                print('Episode: {}'.format(ep),\n",
    "                    'Timestep: {}'.format(timesteps),\n",
    "                    'Total reward: {:.1f}'.format(np.mean(stats_rewards_list[-stats_every:],axis=0)[1]),\n",
    "                    'Episode length: {:.1f}'.format(np.mean(stats_rewards_list[-stats_every:],axis=0)[2]),\n",
    "                    'Actor Loss: {:.4f}'.format(stats_actor_loss/stats_every), \n",
    "                    'VF Loss: {:.4f}'.format(stats_vf_loss/stats_every))\n",
    "                stats_actor_loss, stats_vf_loss = 0., 0.\n",
    "            break\n",
    "        \n",
    "        state = next_state\n"
   ]
  },
  {
   "cell_type": "code",
   "execution_count": 8,
   "metadata": {
    "scrolled": true
   },
   "outputs": [
    {
     "data": {
      "text/plain": [
       "Text(0, 0.5, 'Episode Reward')"
      ]
     },
     "execution_count": 8,
     "metadata": {},
     "output_type": "execute_result"
    },
    {
     "data": {
      "image/png": "[encoded data removed]",
      "text/plain": [
       "<Figure size 432x288 with 1 Axes>"
      ]
     },
     "metadata": {
      "needs_background": "light"
     },
     "output_type": "display_data"
    }
   ],
   "source": [
    "# plot stats\n",
    "def get_running_stat(stat, stat_len):\n",
    "    cum_sum = np.cumsum(np.insert(stat, 0, 0)) \n",
    "    return (cum_sum[stat_len:] - cum_sum[:-stat_len]) / stat_len\n",
    "\n",
    "episode, r, l = np.array(stats_rewards_list).T\n",
    "cum_r = get_running_stat(r, 10)\n",
    "cum_l = get_running_stat(l, 10)\n",
    "\n",
    "# plot rewards\n",
    "plt.plot(episode[-len(cum_r):], cum_r)\n",
    "plt.plot(episode, r, alpha=0.5)\n",
    "plt.xlabel('Episode')\n",
    "plt.ylabel('Episode Reward')"
   ]
  },
  {
   "cell_type": "code",
   "execution_count": 9,
   "metadata": {
    "scrolled": true
   },
   "outputs": [
    {
     "data": {
      "text/plain": [
       "Text(0, 0.5, 'Episode Length')"
      ]
     },
     "execution_count": 9,
     "metadata": {},
     "output_type": "execute_result"
    },
    {
     "data": {
      "image/png": "[encoded data removed]",
      "text/plain": [
       "<Figure size 432x288 with 1 Axes>"
      ]
     },
     "metadata": {
      "needs_background": "light"
     },
     "output_type": "display_data"
    }
   ],
   "source": [
    "# plot episode lengths\n",
    "plt.plot(episode[-len(cum_l):], cum_l)\n",
    "plt.plot(episode, l, alpha=0.5)\n",
    "plt.xlabel('Episode')\n",
    "plt.ylabel('Episode Length')"
   ]
  },
  {
   "cell_type": "code",
   "execution_count": null,
   "metadata": {
    "scrolled": true
   },
   "outputs": [],
   "source": []
  }
 ],
 "metadata": {
  "kernelspec": {
   "display_name": "rl_pytorch",
   "language": "python",
   "name": "rl_pytorch"
  },
  "language_info": {
   "codemirror_mode": {
    "name": "ipython",
    "version": 3
   },
   "file_extension": ".py",
   "mimetype": "text/x-python",
   "name": "python",
   "nbconvert_exporter": "python",
   "pygments_lexer": "ipython3",
   "version": "3.6.8"
  }
 },
 "nbformat": 4,
 "nbformat_minor": 2
}
